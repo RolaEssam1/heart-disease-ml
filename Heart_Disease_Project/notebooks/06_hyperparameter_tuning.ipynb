{
 "cells": [
  {
   "cell_type": "code",
   "execution_count": 1,
   "id": "d07aad10-ffef-4751-b9a8-ea20d7cc9528",
   "metadata": {},
   "outputs": [],
   "source": [
    "import pandas as pd\n",
    "from sklearn.model_selection import train_test_split, GridSearchCV, RandomizedSearchCV\n",
    "from sklearn.preprocessing import StandardScaler\n",
    "from sklearn.pipeline import Pipeline\n",
    "from sklearn.ensemble import RandomForestClassifier\n",
    "from sklearn.svm import SVC\n",
    "import joblib"
   ]
  },
  {
   "cell_type": "code",
   "execution_count": 2,
   "id": "d3a4cf89-ced2-479a-85da-8012647bb56c",
   "metadata": {},
   "outputs": [],
   "source": [
    "df = pd.read_csv(\"../data/heart_disease_clean.csv\")\n",
    "X = df.drop(columns=['target'])\n",
    "y = df['target']"
   ]
  },
  {
   "cell_type": "code",
   "execution_count": 3,
   "id": "7cc19cbc-edff-4af0-85d0-5b3f630d36b5",
   "metadata": {},
   "outputs": [],
   "source": [
    "X_train, X_test, y_train, y_test = train_test_split(X, y, test_size=0.2, stratify=y, random_state=42)\n"
   ]
  },
  {
   "cell_type": "code",
   "execution_count": 4,
   "id": "517e81f2-b4d1-48fe-b9c8-5aad79235094",
   "metadata": {},
   "outputs": [
    {
     "name": "stdout",
     "output_type": "stream",
     "text": [
      "Best RF params: {'clf__max_depth': None, 'clf__min_samples_split': 2, 'clf__n_estimators': 200}\n"
     ]
    }
   ],
   "source": [
    "rf = Pipeline([(\"scaler\", StandardScaler()), (\"clf\", RandomForestClassifier(random_state=42))])\n",
    "rf_params = {\"clf__n_estimators\":[100,200], \"clf__max_depth\":[None,6,10], \"clf__min_samples_split\":[2,5]}\n",
    "rf_grid = GridSearchCV(rf, rf_params, cv=5, scoring=\"f1\", n_jobs=-1)\n",
    "rf_grid.fit(X_train, y_train)\n",
    "print(\"Best RF params:\", rf_grid.best_params_)"
   ]
  },
  {
   "cell_type": "code",
   "execution_count": 5,
   "id": "6d24b5f4-889c-40b1-a6f5-edcb3961aafe",
   "metadata": {},
   "outputs": [
    {
     "name": "stdout",
     "output_type": "stream",
     "text": [
      "Best SVM params: {'clf__kernel': 'linear', 'clf__gamma': 'auto', 'clf__C': 10}\n"
     ]
    }
   ],
   "source": [
    "svm = Pipeline([(\"scaler\", StandardScaler()), (\"clf\", SVC(probability=True, random_state=42))])\n",
    "svm_params = {\"clf__C\":[0.1,1,10], \"clf__kernel\":[\"linear\",\"rbf\"], \"clf__gamma\":[\"scale\",\"auto\"]}\n",
    "svm_search = RandomizedSearchCV(svm, svm_params, n_iter=5, cv=5, scoring=\"f1\", n_jobs=-1, random_state=42)\n",
    "svm_search.fit(X_train, y_train)\n",
    "print(\"Best SVM params:\", svm_search.best_params_)"
   ]
  },
  {
   "cell_type": "code",
   "execution_count": 6,
   "id": "fe9d264d-4ead-47c9-97fd-5c42b53f4f7d",
   "metadata": {},
   "outputs": [
    {
     "name": "stdout",
     "output_type": "stream",
     "text": [
      "Best model saved -> models/final_model.pkl\n"
     ]
    }
   ],
   "source": [
    "best_model = rf_grid.best_estimator_ if rf_grid.best_score_ >= svm_search.best_score_ else svm_search.best_estimator_\n",
    "joblib.dump(best_model, \"../models/final_model.pkl\")\n",
    "print(\"Best model saved -> models/final_model.pkl\")"
   ]
  },
  {
   "cell_type": "code",
   "execution_count": null,
   "id": "ebd2b7a5-7cd7-4ff9-a93b-a98e784bdd1b",
   "metadata": {},
   "outputs": [],
   "source": []
  }
 ],
 "metadata": {
  "kernelspec": {
   "display_name": "Python [conda env:base] *",
   "language": "python",
   "name": "conda-base-py"
  },
  "language_info": {
   "codemirror_mode": {
    "name": "ipython",
    "version": 3
   },
   "file_extension": ".py",
   "mimetype": "text/x-python",
   "name": "python",
   "nbconvert_exporter": "python",
   "pygments_lexer": "ipython3",
   "version": "3.13.5"
  }
 },
 "nbformat": 4,
 "nbformat_minor": 5
}
